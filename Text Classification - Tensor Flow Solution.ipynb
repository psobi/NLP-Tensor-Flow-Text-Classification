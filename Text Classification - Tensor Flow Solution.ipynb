{
 "cells": [
  {
   "cell_type": "markdown",
   "id": "1dfe5f2e",
   "metadata": {},
   "source": [
    "<center>\n",
    "<img style=\"float: left;\" width=\"200\" src=\"../img/one.png\">\n",
    "<div style=\"text-align: Center\">Text Classification in Tensor Flow </div>\n",
    "<div style=\"text-align: Center\">Pawel Sobieralski, 2022 </div>\n",
    "</center>"
   ]
  },
  {
   "cell_type": "markdown",
   "id": "81e35ab7",
   "metadata": {},
   "source": [
    "# Solution Design\n",
    "\n",
    "\n",
    "## Description:\n",
    "For text classification there are 3 possible solutions:\n",
    "1. Traditional solution: embedding with TF-IDF and Naive Bayes classifier. Alternatively Logistic Regression or shalow Neural Network\n",
    "2. <b>Tensor Flow solutution: embedding by converting text to sequences and applying TF deep learning clasifier</b>\n",
    "3. BERT - Google's language model  \n",
    "4. Aditionaly Gensim provides interesting API for embedding, topic modeling etc. that could be used in conjunction with the above.\n",
    "\n",
    "This is Tensor Flow solution\n",
    "\n",
    "## Example usage:\n",
    "\n",
    "<strong>Read Input Data</strong>  \n",
    "raw_data = se_make_sample_corpus()\n",
    "\n",
    "<strong>Standardization</strong>  \n",
    "raw_data['document'] = se_standardization(raw_data['document'])\n",
    "\n",
    "<strong>Validation Split</strong>  \n",
    "data = se_validation_split(raw_data, k)\n",
    "\n",
    "<strong>Vectorize Data</strong>  \n",
    "data_training_ready = se_vectorize(data,vocab_size )\n",
    "\n",
    "<strong>Build Tensor Flow Model</strong>  \n",
    "model = se_build_model(vocab_size, embedding_dim, max_length)\n",
    "\n",
    "<strong>Train Model</strong>  \n",
    "history = se_train_model(model, data_training_ready, num_epochs)\n",
    "\n",
    "<strong>Validate Model</strong>  \n",
    "se_se_validate_model(history)\n",
    "\n",
    "## Files list\n",
    "Text Classification in Tensor Flow Jupier Notebook  \n",
    "text_classification_in_tf.py"
   ]
  },
  {
   "cell_type": "code",
   "execution_count": 17,
   "id": "964ecf45",
   "metadata": {},
   "outputs": [
    {
     "name": "stdout",
     "output_type": "stream",
     "text": [
      "2.8.0\n"
     ]
    }
   ],
   "source": [
    "import sys\n",
    "sys.path.append(\"../Python\")\n",
    "\n",
    "\n",
    "import tensorflow as tf\n",
    "from tensorflow.keras.preprocessing.text import Tokenizer\n",
    "from tensorflow.keras.preprocessing.sequence import pad_sequences\n",
    "\n",
    "import pandas as pd\n",
    "import numpy as np\n",
    "import re\n",
    "import string\n",
    "\n",
    "import utils # utils build for this project\n",
    "\n",
    "print(tf.__version__)"
   ]
  },
  {
   "cell_type": "markdown",
   "id": "346a7b87",
   "metadata": {},
   "source": [
    "# Read in Input Data"
   ]
  },
  {
   "cell_type": "code",
   "execution_count": 18,
   "id": "73bac605",
   "metadata": {},
   "outputs": [
    {
     "data": {
      "text/html": [
       "<div>\n",
       "<style scoped>\n",
       "    .dataframe tbody tr th:only-of-type {\n",
       "        vertical-align: middle;\n",
       "    }\n",
       "\n",
       "    .dataframe tbody tr th {\n",
       "        vertical-align: top;\n",
       "    }\n",
       "\n",
       "    .dataframe thead th {\n",
       "        text-align: right;\n",
       "    }\n",
       "</style>\n",
       "<table border=\"1\" class=\"dataframe\">\n",
       "  <thead>\n",
       "    <tr style=\"text-align: right;\">\n",
       "      <th></th>\n",
       "      <th>document</th>\n",
       "      <th>label</th>\n",
       "    </tr>\n",
       "  </thead>\n",
       "  <tbody>\n",
       "    <tr>\n",
       "      <th>0</th>\n",
       "      <td>Human machine accusations for lab allegations ...</td>\n",
       "      <td>0</td>\n",
       "    </tr>\n",
       "    <tr>\n",
       "      <th>1</th>\n",
       "      <td>A survey of user opinion of allegations charge...</td>\n",
       "      <td>0</td>\n",
       "    </tr>\n",
       "    <tr>\n",
       "      <th>2</th>\n",
       "      <td>The EPS user accusations management charges</td>\n",
       "      <td>0</td>\n",
       "    </tr>\n",
       "    <tr>\n",
       "      <th>3</th>\n",
       "      <td>charges and human charges engineering testing ...</td>\n",
       "      <td>0</td>\n",
       "    </tr>\n",
       "    <tr>\n",
       "      <th>4</th>\n",
       "      <td>Relation of user perceived response time to er...</td>\n",
       "      <td>0</td>\n",
       "    </tr>\n",
       "    <tr>\n",
       "      <th>5</th>\n",
       "      <td>The generation of random binary unordered conv...</td>\n",
       "      <td>1</td>\n",
       "    </tr>\n",
       "    <tr>\n",
       "      <th>6</th>\n",
       "      <td>The intersection sentencing of paths in convic...</td>\n",
       "      <td>1</td>\n",
       "    </tr>\n",
       "    <tr>\n",
       "      <th>7</th>\n",
       "      <td>Sentencing minors IV Widths of conviction and ...</td>\n",
       "      <td>1</td>\n",
       "    </tr>\n",
       "    <tr>\n",
       "      <th>8</th>\n",
       "      <td>Sentencing minors A survey</td>\n",
       "      <td>1</td>\n",
       "    </tr>\n",
       "  </tbody>\n",
       "</table>\n",
       "</div>"
      ],
      "text/plain": [
       "                                            document  label\n",
       "0  Human machine accusations for lab allegations ...      0\n",
       "1  A survey of user opinion of allegations charge...      0\n",
       "2        The EPS user accusations management charges      0\n",
       "3  charges and human charges engineering testing ...      0\n",
       "4  Relation of user perceived response time to er...      0\n",
       "5  The generation of random binary unordered conv...      1\n",
       "6  The intersection sentencing of paths in convic...      1\n",
       "7  Sentencing minors IV Widths of conviction and ...      1\n",
       "8                         Sentencing minors A survey      1"
      ]
     },
     "execution_count": 18,
     "metadata": {},
     "output_type": "execute_result"
    }
   ],
   "source": [
    "def make_sample_corpus():\n",
    "    text_corpus = [\n",
    "        \"Human machine accusations for lab allegations applications\",\n",
    "        \"A survey of user opinion of allegations charges response time\",\n",
    "        \"The EPS user accusations management charges\",\n",
    "        \"charges and human charges engineering testing of EPS\",\n",
    "        \"Relation of user perceived response time to error measurement\",\n",
    "        \"The generation of random binary unordered conviction\",\n",
    "        \"The intersection sentencing of paths in conviction\",\n",
    "        \"Sentencing minors IV Widths of conviction and well quasi ordering\",\n",
    "        \"Sentencing minors A survey\",\n",
    "    ]\n",
    "    labels = [0,0,0,0,0,1,1,1,1]\n",
    "\n",
    "    return {'document':text_corpus,'label':labels}\n",
    "\n",
    "raw_data = se_make_sample_corpus()\n",
    "\n",
    "pd.DataFrame(raw_data)"
   ]
  },
  {
   "cell_type": "markdown",
   "id": "9fe0408a",
   "metadata": {},
   "source": [
    "# Custom Standardization\n",
    "Below is a sample method. For a full pre-processing, tokenization, stemming see se_utils.py"
   ]
  },
  {
   "cell_type": "code",
   "execution_count": 19,
   "id": "e54f1d1c",
   "metadata": {},
   "outputs": [
    {
     "data": {
      "text/plain": [
       "['human machine accusations for lab allegations applications',\n",
       " 'a survey of user opinion of allegations charges response time',\n",
       " 'the eps user accusations management charges',\n",
       " 'charges and human charges engineering testing of eps',\n",
       " 'relation of user perceived response time to error measurement',\n",
       " 'the generation of random binary unordered conviction',\n",
       " 'the intersection sentencing of paths in conviction',\n",
       " 'sentencing minors iv widths of conviction and well quasi ordering',\n",
       " 'sentencing minors a survey']"
      ]
     },
     "execution_count": 19,
     "metadata": {},
     "output_type": "execute_result"
    }
   ],
   "source": [
    "def se_standardization(input_data):\n",
    "    \n",
    "    return list(map(lambda row: str(row).lower(), input_data))\n",
    "\n",
    "raw_data['document'] = se_standardization(raw_data['document'])\n",
    "raw_data['document']"
   ]
  },
  {
   "cell_type": "markdown",
   "id": "5d213118",
   "metadata": {},
   "source": [
    "# Validation Split"
   ]
  },
  {
   "cell_type": "code",
   "execution_count": 20,
   "id": "26a675db",
   "metadata": {},
   "outputs": [],
   "source": [
    "def se_validation_split(input_data, k):\n",
    "\n",
    "    split = round(len(input_data['document']) * k )\n",
    "\n",
    "    train_documents = input_data['document'][:split]\n",
    "    train_label = input_data['label'][:split]\n",
    "\n",
    "    test_documents = input_data['document'][split:]\n",
    "    test_label = input_data['label'][split:]\n",
    "    \n",
    "    return {'train_documents' : np.array(train_documents),\n",
    "            'train_labels'    : np.array(train_label),\n",
    "            'test_documents'  : np.array(test_documents),\n",
    "            'test_labels'     : np.array(test_label)\n",
    "           }\n",
    "\n",
    "k = 0.8\n",
    "data = se_validation_split(raw_data, k)"
   ]
  },
  {
   "cell_type": "markdown",
   "id": "3ab4810d",
   "metadata": {},
   "source": [
    "# Tensor Flow Settings"
   ]
  },
  {
   "cell_type": "code",
   "execution_count": 21,
   "id": "cb07040f",
   "metadata": {},
   "outputs": [
    {
     "data": {
      "text/plain": [
       "51"
      ]
     },
     "execution_count": 21,
     "metadata": {},
     "output_type": "execute_result"
    }
   ],
   "source": [
    "#unique words to train the network\n",
    "proc_doc = list(map(utils.process_document,raw_data['document'])) \n",
    "vocab_size = len([item for sublist in proc_doc for item in sublist])\n",
    "\n",
    "#Each word will be represented by a n-dimensional vector\n",
    "embedding_dim = 10 \n",
    "\n",
    "# Each document padded to n words\n",
    "max_length = 10 \n",
    "\n",
    "# Truncated at the end\n",
    "trunc_type = 'post' \n",
    "\n",
    "# Unknown token \n",
    "oov_tok = '<OOV>' \n",
    "\n",
    "# Padding\n",
    "padding_type = 'post'\n",
    "\n",
    "vocab_size"
   ]
  },
  {
   "cell_type": "markdown",
   "id": "fa04655f",
   "metadata": {},
   "source": [
    "# Vectorize\n",
    "Convert documents into the sequences of words pad if necessary"
   ]
  },
  {
   "cell_type": "code",
   "execution_count": 22,
   "id": "c0353089",
   "metadata": {},
   "outputs": [
    {
     "data": {
      "text/plain": [
       "{'train_documents': array([[ 0,  0,  0,  6, 13,  7, 14, 15,  8, 16],\n",
       "        [17, 18,  2,  4, 19,  2,  8,  3,  9, 10],\n",
       "        [ 0,  0,  0,  0,  5, 11,  4,  7, 20,  3],\n",
       "        [ 0,  0,  3, 21,  6,  3, 22, 23,  2, 11],\n",
       "        [ 0, 24,  2,  4, 25,  9, 10, 26, 27, 28],\n",
       "        [ 0,  0,  0,  5, 29,  2, 30, 31, 32, 12],\n",
       "        [ 0,  0,  0,  5, 33, 34,  2, 35, 36, 12]]),\n",
       " 'train_labels': array([0, 0, 0, 0, 0, 1, 1]),\n",
       " 'test_documents': array([[34,  1,  1,  1,  2, 12, 21,  1,  1,  1],\n",
       "        [ 0,  0,  0,  0,  0,  0, 34,  1, 17, 18]]),\n",
       " 'test_labels': array([1, 1])}"
      ]
     },
     "execution_count": 22,
     "metadata": {},
     "output_type": "execute_result"
    }
   ],
   "source": [
    "def se_vectorize(data, vocab_size):\n",
    "    \n",
    "    tokenizer = Tokenizer(num_words=vocab_size, oov_token='oov_tok')\n",
    "    tokenizer.fit_on_texts(data['train_documents'])\n",
    "\n",
    "    sequences = tokenizer.texts_to_sequences(data['train_documents'])\n",
    "    training_ready = pad_sequences(sequences, maxlen=max_length, truncating=trunc_type)\n",
    "\n",
    "    testing_documents = tokenizer.texts_to_sequences(data['test_documents'])\n",
    "    testing_ready = pad_sequences(testing_documents, maxlen=max_length)\n",
    "        \n",
    "    return {'train_documents' : np.array(training_ready),\n",
    "            'train_labels'    : data['train_labels'],\n",
    "            'test_documents'  : np.array(testing_ready),\n",
    "            'test_labels'     : data['test_labels'],\n",
    "           }\n",
    "\n",
    "data_training_ready = se_vectorize(data,vocab_size )\n",
    "data_training_ready                          "
   ]
  },
  {
   "cell_type": "markdown",
   "id": "e05d4bd9",
   "metadata": {},
   "source": [
    "# Build Model\n",
    "Sequential model with a stack of layers. Define loss function and metric to be optimized"
   ]
  },
  {
   "cell_type": "code",
   "execution_count": 23,
   "id": "d8a425a7",
   "metadata": {},
   "outputs": [
    {
     "name": "stdout",
     "output_type": "stream",
     "text": [
      "Model: \"sequential_1\"\n",
      "_________________________________________________________________\n",
      " Layer (type)                Output Shape              Param #   \n",
      "=================================================================\n",
      " embedding_1 (Embedding)     (None, 10, 10)            510       \n",
      "                                                                 \n",
      " global_average_pooling1d_1   (None, 10)               0         \n",
      " (GlobalAveragePooling1D)                                        \n",
      "                                                                 \n",
      " dense_2 (Dense)             (None, 6)                 66        \n",
      "                                                                 \n",
      " dense_3 (Dense)             (None, 1)                 7         \n",
      "                                                                 \n",
      "=================================================================\n",
      "Total params: 583\n",
      "Trainable params: 583\n",
      "Non-trainable params: 0\n",
      "_________________________________________________________________\n"
     ]
    }
   ],
   "source": [
    "def se_build_model(vocab_size, embedding_dim, max_length):\n",
    "    \n",
    "    model = tf.keras.Sequential([\n",
    "        tf.keras.layers.Embedding(vocab_size, embedding_dim, input_length=max_length),\n",
    "        tf.keras.layers.GlobalAveragePooling1D(),\n",
    "        tf.keras.layers.Dense(6, activation='relu'),\n",
    "        tf.keras.layers.Dense(1, activation='sigmoid')\n",
    "    ])\n",
    "\n",
    "    model.compile(loss='binary_crossentropy', optimizer='adam', metrics=['accuracy'])\n",
    "        \n",
    "    return model\n",
    "\n",
    "model = se_build_model(vocab_size, embedding_dim, max_length)\n",
    "model.summary()"
   ]
  },
  {
   "cell_type": "markdown",
   "id": "7d30c6f5",
   "metadata": {},
   "source": [
    "# Train Model in n Epochs\n",
    "Estimate model parameters for binary_crossentropy loss function"
   ]
  },
  {
   "cell_type": "code",
   "execution_count": 25,
   "id": "df3bce56",
   "metadata": {},
   "outputs": [
    {
     "name": "stdout",
     "output_type": "stream",
     "text": [
      "Epoch 1/20\n",
      "1/1 [==============================] - 0s 53ms/step - loss: 0.6672 - accuracy: 0.7143 - val_loss: 0.7268 - val_accuracy: 0.0000e+00\n",
      "Epoch 2/20\n",
      "1/1 [==============================] - 0s 20ms/step - loss: 0.6656 - accuracy: 0.7143 - val_loss: 0.7283 - val_accuracy: 0.0000e+00\n",
      "Epoch 3/20\n",
      "1/1 [==============================] - 0s 26ms/step - loss: 0.6641 - accuracy: 0.7143 - val_loss: 0.7299 - val_accuracy: 0.0000e+00\n",
      "Epoch 4/20\n",
      "1/1 [==============================] - 0s 23ms/step - loss: 0.6626 - accuracy: 0.7143 - val_loss: 0.7314 - val_accuracy: 0.0000e+00\n",
      "Epoch 5/20\n",
      "1/1 [==============================] - 0s 23ms/step - loss: 0.6610 - accuracy: 0.7143 - val_loss: 0.7330 - val_accuracy: 0.0000e+00\n",
      "Epoch 6/20\n",
      "1/1 [==============================] - 0s 23ms/step - loss: 0.6595 - accuracy: 0.7143 - val_loss: 0.7346 - val_accuracy: 0.0000e+00\n",
      "Epoch 7/20\n",
      "1/1 [==============================] - 0s 25ms/step - loss: 0.6579 - accuracy: 0.7143 - val_loss: 0.7363 - val_accuracy: 0.0000e+00\n",
      "Epoch 8/20\n",
      "1/1 [==============================] - 0s 25ms/step - loss: 0.6563 - accuracy: 0.7143 - val_loss: 0.7379 - val_accuracy: 0.0000e+00\n",
      "Epoch 9/20\n",
      "1/1 [==============================] - 0s 25ms/step - loss: 0.6547 - accuracy: 0.7143 - val_loss: 0.7396 - val_accuracy: 0.0000e+00\n",
      "Epoch 10/20\n",
      "1/1 [==============================] - 0s 23ms/step - loss: 0.6530 - accuracy: 0.7143 - val_loss: 0.7413 - val_accuracy: 0.0000e+00\n",
      "Epoch 11/20\n",
      "1/1 [==============================] - 0s 24ms/step - loss: 0.6513 - accuracy: 0.7143 - val_loss: 0.7430 - val_accuracy: 0.0000e+00\n",
      "Epoch 12/20\n",
      "1/1 [==============================] - 0s 23ms/step - loss: 0.6497 - accuracy: 0.7143 - val_loss: 0.7447 - val_accuracy: 0.0000e+00\n",
      "Epoch 13/20\n",
      "1/1 [==============================] - 0s 25ms/step - loss: 0.6479 - accuracy: 0.7143 - val_loss: 0.7464 - val_accuracy: 0.0000e+00\n",
      "Epoch 14/20\n",
      "1/1 [==============================] - 0s 24ms/step - loss: 0.6462 - accuracy: 0.7143 - val_loss: 0.7481 - val_accuracy: 0.0000e+00\n",
      "Epoch 15/20\n",
      "1/1 [==============================] - 0s 25ms/step - loss: 0.6445 - accuracy: 0.7143 - val_loss: 0.7498 - val_accuracy: 0.0000e+00\n",
      "Epoch 16/20\n",
      "1/1 [==============================] - 0s 24ms/step - loss: 0.6427 - accuracy: 0.7143 - val_loss: 0.7516 - val_accuracy: 0.0000e+00\n",
      "Epoch 17/20\n",
      "1/1 [==============================] - 0s 25ms/step - loss: 0.6409 - accuracy: 0.7143 - val_loss: 0.7533 - val_accuracy: 0.0000e+00\n",
      "Epoch 18/20\n",
      "1/1 [==============================] - 0s 23ms/step - loss: 0.6391 - accuracy: 0.7143 - val_loss: 0.7550 - val_accuracy: 0.0000e+00\n",
      "Epoch 19/20\n",
      "1/1 [==============================] - 0s 25ms/step - loss: 0.6372 - accuracy: 0.7143 - val_loss: 0.7567 - val_accuracy: 0.0000e+00\n",
      "Epoch 20/20\n",
      "1/1 [==============================] - 0s 27ms/step - loss: 0.6353 - accuracy: 0.7143 - val_loss: 0.7584 - val_accuracy: 0.0000e+00\n"
     ]
    }
   ],
   "source": [
    "def se_train_model(model, data, num_epochs):\n",
    "      \n",
    "    history = model.fit(data['train_documents'],\n",
    "                        data['train_labels'],\n",
    "                        epochs=num_epochs,\n",
    "                        validation_data=(data['test_documents'],\n",
    "                                         data['test_labels']\n",
    "                                        )\n",
    "                       )\n",
    "    return history\n",
    "    \n",
    "num_epochs = 20\n",
    "history = se_train_model(model, data_training_ready, num_epochs)"
   ]
  },
  {
   "cell_type": "markdown",
   "id": "b1473c56",
   "metadata": {},
   "source": [
    "# Validate\n",
    "\n",
    "This is prototype solution and the corpus is very tiny so below you may not observe expected curves"
   ]
  },
  {
   "cell_type": "code",
   "execution_count": 15,
   "id": "84be2705",
   "metadata": {},
   "outputs": [
    {
     "data": {
      "image/png": "[encoded data removed]",
      "text/plain": [
       "<Figure size 432x288 with 1 Axes>"
      ]
     },
     "metadata": {
      "needs_background": "light"
     },
     "output_type": "display_data"
    },
    {
     "data": {
      "image/png": "[encoded data removed]",
      "text/plain": [
       "<Figure size 432x288 with 1 Axes>"
      ]
     },
     "metadata": {
      "needs_background": "light"
     },
     "output_type": "display_data"
    },
    {
     "data": {
      "text/plain": [
       "<Figure size 432x288 with 0 Axes>"
      ]
     },
     "metadata": {},
     "output_type": "display_data"
    }
   ],
   "source": [
    "def se_validate_model(history):\n",
    "    \n",
    "    %matplotlib inline\n",
    "    \n",
    "    import matplotlib.pyplot as plt\n",
    "    import matplotlib.image as mpimg\n",
    "    \n",
    "    acc = history.history['accuracy']\n",
    "    val_acc = history.history['val_accuracy']\n",
    "    loss = history.history['loss']\n",
    "    val_loss = history.history['val_loss']\n",
    "    epochs=range(len(acc))\n",
    "    \n",
    "    plt.plot(epochs, acc, 'r', 'Training Accuracy')\n",
    "    plt.plot(epochs, val_acc, 'b', 'Validation Accuracy')\n",
    "    plt.title('Training and validation accuracy')\n",
    "    plt.figure()\n",
    "    plt.plot(epochs, loss, 'r', 'Training Loss')\n",
    "    plt.plot(epochs, val_loss, 'b', 'Validation Loss')\n",
    "    plt.title('Training and validation loss')\n",
    "    plt.figure()\n",
    "\n",
    "se_validate_model(history)"
   ]
  }
 ],
 "metadata": {
  "kernelspec": {
   "display_name": "Python 3 (ipykernel)",
   "language": "python",
   "name": "python3"
  },
  "language_info": {
   "codemirror_mode": {
    "name": "ipython",
    "version": 3
   },
   "file_extension": ".py",
   "mimetype": "text/x-python",
   "name": "python",
   "nbconvert_exporter": "python",
   "pygments_lexer": "ipython3",
   "version": "3.7.10"
  }
 },
 "nbformat": 4,
 "nbformat_minor": 5
}
